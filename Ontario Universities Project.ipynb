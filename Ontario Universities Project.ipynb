{
    "cells": [
        {
            "cell_type": "code",
            "execution_count": 330,
            "metadata": {},
            "outputs": [],
            "source": "# Get HTML of the desired wiki page\nimport requests\nurl = requests.get(\"https://en.wikipedia.org/wiki/List_of_universities_in_Canada\").text\n\n# Parse data from wiki page into soup object\nfrom bs4 import BeautifulSoup\nsoup = BeautifulSoup(url,'lxml')\n\n# Extract the table containing the desired data\nmy_table = soup.find('table', class_ = 'wikitable sortable')"
        },
        {
            "cell_type": "code",
            "execution_count": 331,
            "metadata": {},
            "outputs": [
                {
                    "name": "stderr",
                    "output_type": "stream",
                    "text": "/opt/conda/envs/Python36/lib/python3.6/site-packages/ipykernel/__main__.py:25: UserWarning: Boolean Series key will be reindexed to match DataFrame index.\n"
                },
                {
                    "data": {
                        "text/html": "<div>\n<style scoped>\n    .dataframe tbody tr th:only-of-type {\n        vertical-align: middle;\n    }\n\n    .dataframe tbody tr th {\n        vertical-align: top;\n    }\n\n    .dataframe thead th {\n        text-align: right;\n    }\n</style>\n<table border=\"1\" class=\"dataframe\">\n  <thead>\n    <tr style=\"text-align: right;\">\n      <th></th>\n      <th>University</th>\n      <th>City</th>\n      <th>Province</th>\n    </tr>\n  </thead>\n  <tbody>\n    <tr>\n      <th>0</th>\n      <td>Algoma University</td>\n      <td>Sault Ste. Marie</td>\n      <td>Ontario</td>\n    </tr>\n    <tr>\n      <th>1</th>\n      <td>Brock University</td>\n      <td>St. Catharines</td>\n      <td>Ontario</td>\n    </tr>\n    <tr>\n      <th>2</th>\n      <td>Carleton University</td>\n      <td>Ottawa</td>\n      <td>Ontario</td>\n    </tr>\n    <tr>\n      <th>3</th>\n      <td>Dominican University College</td>\n      <td>Ottawa</td>\n      <td>Ontario</td>\n    </tr>\n    <tr>\n      <th>4</th>\n      <td>Lakehead University</td>\n      <td>Thunder Bay</td>\n      <td>Ontario</td>\n    </tr>\n  </tbody>\n</table>\n</div>",
                        "text/plain": "                     University              City Province\n0             Algoma University  Sault Ste. Marie  Ontario\n1              Brock University    St. Catharines  Ontario\n2           Carleton University            Ottawa  Ontario\n3  Dominican University College            Ottawa  Ontario\n4           Lakehead University       Thunder Bay  Ontario"
                    },
                    "execution_count": 331,
                    "metadata": {},
                    "output_type": "execute_result"
                }
            ],
            "source": "# Create empty lists for each column in final table\nA=[]\nB=[]\nC=[]\n\n# Pull contents from table and place into created lists\nfor row in my_table.findAll(\"tr\"):\n    cells = row.findAll('td')\n    if len(cells)==9:\n        col_A_contents = (cells[0].find(text=True)).rstrip()\n        col_B_contents = (cells[1].find(text=True)).rstrip()\n        col_C_contents = (cells[2].find(text=True)).rstrip()\n        A.append(col_A_contents)\n        B.append(col_B_contents)\n        C.append(col_C_contents) \n\n# Import pandas to convert list to data frame\nimport pandas as pd\ndf = pd.DataFrame(A, columns = ['University'])\ndf['City'] = B\ndf['Province'] = C\n\n# Reduce results to only Ontario universities NOT in Toronto\ndf_ontario = df[df[\"Province\"]==\"Ontario\"]\ndf_final = df_ontario[df[\"City\"]!=\"Toronto\"]\ndf_final = df_final.reset_index(drop=True)\n\ndf_final.head()"
        },
        {
            "cell_type": "code",
            "execution_count": 337,
            "metadata": {},
            "outputs": [
                {
                    "name": "stdout",
                    "output_type": "stream",
                    "text": "Solving environment: done\n\n# All requested packages already installed.\n\n"
                }
            ],
            "source": "!conda install -c conda-forge geopy --yes\nfrom geopy.geocoders import Nominatim\ngeolocator = Nominatim(user_agent=\"uni_explorer\")"
        },
        {
            "cell_type": "code",
            "execution_count": 338,
            "metadata": {},
            "outputs": [
                {
                    "data": {
                        "text/html": "<div>\n<style scoped>\n    .dataframe tbody tr th:only-of-type {\n        vertical-align: middle;\n    }\n\n    .dataframe tbody tr th {\n        vertical-align: top;\n    }\n\n    .dataframe thead th {\n        text-align: right;\n    }\n</style>\n<table border=\"1\" class=\"dataframe\">\n  <thead>\n    <tr style=\"text-align: right;\">\n      <th></th>\n      <th>University</th>\n      <th>City</th>\n      <th>Province</th>\n      <th>Latitude</th>\n      <th>Longitude</th>\n    </tr>\n  </thead>\n  <tbody>\n    <tr>\n      <th>0</th>\n      <td>Algoma University</td>\n      <td>Sault Ste. Marie</td>\n      <td>Ontario</td>\n      <td>46.501885</td>\n      <td>-84.287460</td>\n    </tr>\n    <tr>\n      <th>1</th>\n      <td>Brock University</td>\n      <td>St. Catharines</td>\n      <td>Ontario</td>\n      <td>43.119569</td>\n      <td>-79.249395</td>\n    </tr>\n    <tr>\n      <th>2</th>\n      <td>Carleton University</td>\n      <td>Ottawa</td>\n      <td>Ontario</td>\n      <td>45.386084</td>\n      <td>-75.695393</td>\n    </tr>\n    <tr>\n      <th>3</th>\n      <td>Dominican University College</td>\n      <td>Ottawa</td>\n      <td>Ontario</td>\n      <td>45.411245</td>\n      <td>-75.709900</td>\n    </tr>\n    <tr>\n      <th>4</th>\n      <td>Lakehead University</td>\n      <td>Thunder Bay</td>\n      <td>Ontario</td>\n      <td>44.592292</td>\n      <td>-79.458208</td>\n    </tr>\n  </tbody>\n</table>\n</div>",
                        "text/plain": "                     University              City Province   Latitude  \\\n0             Algoma University  Sault Ste. Marie  Ontario  46.501885   \n1              Brock University    St. Catharines  Ontario  43.119569   \n2           Carleton University            Ottawa  Ontario  45.386084   \n3  Dominican University College            Ottawa  Ontario  45.411245   \n4           Lakehead University       Thunder Bay  Ontario  44.592292   \n\n   Longitude  \n0 -84.287460  \n1 -79.249395  \n2 -75.695393  \n3 -75.709900  \n4 -79.458208  "
                    },
                    "execution_count": 338,
                    "metadata": {},
                    "output_type": "execute_result"
                }
            ],
            "source": "# Get the latitudes and longitudes of each university\nlats = []\nlons = []\nfor index, row in df_final.iterrows():\n    uni = row[0]\n    location = geolocator.geocode(uni)\n    lats.append(location.latitude)\n    lons.append(location.longitude)\n\n# Add the lat and lon coordinates of each uni to the dataset\ndf_final[\"Latitude\"] = lats\ndf_final[\"Longitude\"] = lons\n\ndf_final.head()"
        },
        {
            "cell_type": "code",
            "execution_count": 339,
            "metadata": {},
            "outputs": [],
            "source": "# Set up Foursquare credentials\nCLIENT_ID = '2MVMN2N4CL330MOLH0TGZY0A4BR2RLEUWUUWJ1ORKHK2P5IK' # your Foursquare ID\nCLIENT_SECRET = 'QQ2TF3DFE3ZMRGALQXDYI2EFEEMV2TF2EPJUL1LPM4KS30H1' # your Foursquare Secret\nVERSION = '20180605' # Foursquare API version"
        },
        {
            "cell_type": "code",
            "execution_count": 340,
            "metadata": {},
            "outputs": [],
            "source": "# Create a dataset that includes all of the venues nearby each uni's lat/lon location\ndef getNearbyVenues(names, latitudes, longitudes, radius=1500, LIMIT=500):\n    \n    venues_list=[]\n    for name, lat, lng in zip(names, latitudes, longitudes):\n            \n        # create the API request URL\n        url = 'https://api.foursquare.com/v2/venues/explore?&client_id={}&client_secret={}&v={}&ll={},{}&radius={}&limit={}'.format(\n            CLIENT_ID, \n            CLIENT_SECRET, \n            VERSION, \n            lat, \n            lng, \n            radius, \n            LIMIT)\n            \n        # make the GET request\n        results = requests.get(url).json()[\"response\"]['groups'][0]['items']\n        \n        # return only relevant information for each nearby venue\n        venues_list.append([(\n            name, \n            lat, \n            lng, \n            v['venue']['name'],   \n            v['venue']['categories'][0]['name']) for v in results])\n\n    nearby_venues = pd.DataFrame([item for venue_list in venues_list for item in venue_list])\n    nearby_venues.columns = ['University', \n                  'University Latitude', \n                  'University Longitude', \n                  'Venue',  \n                  'Venue Category']\n    \n    return(nearby_venues)"
        },
        {
            "cell_type": "code",
            "execution_count": 341,
            "metadata": {},
            "outputs": [
                {
                    "data": {
                        "text/html": "<div>\n<style scoped>\n    .dataframe tbody tr th:only-of-type {\n        vertical-align: middle;\n    }\n\n    .dataframe tbody tr th {\n        vertical-align: top;\n    }\n\n    .dataframe thead th {\n        text-align: right;\n    }\n</style>\n<table border=\"1\" class=\"dataframe\">\n  <thead>\n    <tr style=\"text-align: right;\">\n      <th></th>\n      <th>University</th>\n      <th>University Latitude</th>\n      <th>University Longitude</th>\n      <th>Venue</th>\n      <th>Venue Category</th>\n    </tr>\n  </thead>\n  <tbody>\n    <tr>\n      <th>0</th>\n      <td>Algoma University</td>\n      <td>46.501885</td>\n      <td>-84.28746</td>\n      <td>Starbucks</td>\n      <td>Coffee Shop</td>\n    </tr>\n    <tr>\n      <th>1</th>\n      <td>Algoma University</td>\n      <td>46.501885</td>\n      <td>-84.28746</td>\n      <td>Pino's</td>\n      <td>Grocery Store</td>\n    </tr>\n    <tr>\n      <th>2</th>\n      <td>Algoma University</td>\n      <td>46.501885</td>\n      <td>-84.28746</td>\n      <td>JC Sakura</td>\n      <td>Japanese Restaurant</td>\n    </tr>\n    <tr>\n      <th>3</th>\n      <td>Algoma University</td>\n      <td>46.501885</td>\n      <td>-84.28746</td>\n      <td>Wacky Wings</td>\n      <td>Wings Joint</td>\n    </tr>\n    <tr>\n      <th>4</th>\n      <td>Algoma University</td>\n      <td>46.501885</td>\n      <td>-84.28746</td>\n      <td>Tim Hortons</td>\n      <td>Coffee Shop</td>\n    </tr>\n  </tbody>\n</table>\n</div>",
                        "text/plain": "          University  University Latitude  University Longitude        Venue  \\\n0  Algoma University            46.501885             -84.28746    Starbucks   \n1  Algoma University            46.501885             -84.28746       Pino's   \n2  Algoma University            46.501885             -84.28746    JC Sakura   \n3  Algoma University            46.501885             -84.28746  Wacky Wings   \n4  Algoma University            46.501885             -84.28746  Tim Hortons   \n\n        Venue Category  \n0          Coffee Shop  \n1        Grocery Store  \n2  Japanese Restaurant  \n3          Wings Joint  \n4          Coffee Shop  "
                    },
                    "execution_count": 341,
                    "metadata": {},
                    "output_type": "execute_result"
                }
            ],
            "source": "# Create a new table that lists all of the returned venues\nall_venues = getNearbyVenues(names=df_final['University'],\n                                   latitudes=df_final['Latitude'],\n                                   longitudes=df_final['Longitude'])\n\nall_venues.head()"
        },
        {
            "cell_type": "code",
            "execution_count": 342,
            "metadata": {},
            "outputs": [
                {
                    "name": "stdout",
                    "output_type": "stream",
                    "text": "                                       University  Venue\n0                               Algoma University     18\n1                                Brock University     11\n2                             Carleton University     53\n3                    Dominican University College     98\n4                        Huron University College     18\n5                             Lakehead University      5\n6                           Laurentian University      6\n7                             McMaster University     45\n8                            Nipissing University     30\n9                              Queen's University     97\n10               Royal Military College of Canada     63\n11                          Saint Paul University     95\n12                               Trent University      6\n13                           University of Guelph     28\n14  University of Ontario Institute of Technology     50\n15                           University of Ottawa     98\n16                         University of Waterloo     54\n17                  University of Western Ontario     93\n18                          University of Windsor     40\n19                     Wilfrid Laurier University     98\n['Lakehead University', 'Laurentian University', 'Trent University']\n"
                }
            ],
            "source": "# Count the number of venues returned for each university\nuni_counter = all_venues.groupby('University')['Venue'].nunique().reset_index()\n\nprint (uni_counter)\n\n# Create a list of universities that do not have enough (less than 10) venues returned \nremove_list = []\n\nfor index, row in uni_counter.iterrows():\n    if row[1] < 10:\n        remove_list.append(row[0])\n        \nprint (remove_list)"
        },
        {
            "cell_type": "code",
            "execution_count": 343,
            "metadata": {
                "scrolled": true
            },
            "outputs": [
                {
                    "data": {
                        "text/html": "<div>\n<style scoped>\n    .dataframe tbody tr th:only-of-type {\n        vertical-align: middle;\n    }\n\n    .dataframe tbody tr th {\n        vertical-align: top;\n    }\n\n    .dataframe thead th {\n        text-align: right;\n    }\n</style>\n<table border=\"1\" class=\"dataframe\">\n  <thead>\n    <tr style=\"text-align: right;\">\n      <th></th>\n      <th>University</th>\n      <th>University Latitude</th>\n      <th>University Longitude</th>\n      <th>Venue</th>\n      <th>Venue Category</th>\n    </tr>\n  </thead>\n  <tbody>\n    <tr>\n      <th>0</th>\n      <td>Algoma University</td>\n      <td>46.501885</td>\n      <td>-84.28746</td>\n      <td>Starbucks</td>\n      <td>Coffee Shop</td>\n    </tr>\n    <tr>\n      <th>1</th>\n      <td>Algoma University</td>\n      <td>46.501885</td>\n      <td>-84.28746</td>\n      <td>Pino's</td>\n      <td>Grocery Store</td>\n    </tr>\n    <tr>\n      <th>2</th>\n      <td>Algoma University</td>\n      <td>46.501885</td>\n      <td>-84.28746</td>\n      <td>JC Sakura</td>\n      <td>Japanese Restaurant</td>\n    </tr>\n    <tr>\n      <th>3</th>\n      <td>Algoma University</td>\n      <td>46.501885</td>\n      <td>-84.28746</td>\n      <td>Wacky Wings</td>\n      <td>Wings Joint</td>\n    </tr>\n    <tr>\n      <th>4</th>\n      <td>Algoma University</td>\n      <td>46.501885</td>\n      <td>-84.28746</td>\n      <td>Tim Hortons</td>\n      <td>Coffee Shop</td>\n    </tr>\n  </tbody>\n</table>\n</div>",
                        "text/plain": "          University  University Latitude  University Longitude        Venue  \\\n0  Algoma University            46.501885             -84.28746    Starbucks   \n1  Algoma University            46.501885             -84.28746       Pino's   \n2  Algoma University            46.501885             -84.28746    JC Sakura   \n3  Algoma University            46.501885             -84.28746  Wacky Wings   \n4  Algoma University            46.501885             -84.28746  Tim Hortons   \n\n        Venue Category  \n0          Coffee Shop  \n1        Grocery Store  \n2  Japanese Restaurant  \n3          Wings Joint  \n4          Coffee Shop  "
                    },
                    "execution_count": 343,
                    "metadata": {},
                    "output_type": "execute_result"
                }
            ],
            "source": "# Remove unis in the dataset that show up in the remove list\nfor uni in remove_list:\n    all_venues = all_venues[all_venues[\"University\"] != uni]\n\nall_venues.head()"
        },
        {
            "cell_type": "code",
            "execution_count": 344,
            "metadata": {},
            "outputs": [
                {
                    "data": {
                        "text/html": "<div>\n<style scoped>\n    .dataframe tbody tr th:only-of-type {\n        vertical-align: middle;\n    }\n\n    .dataframe tbody tr th {\n        vertical-align: top;\n    }\n\n    .dataframe thead th {\n        text-align: right;\n    }\n</style>\n<table border=\"1\" class=\"dataframe\">\n  <thead>\n    <tr style=\"text-align: right;\">\n      <th></th>\n      <th>University</th>\n      <th>Adult Boutique</th>\n      <th>American Restaurant</th>\n      <th>Arcade</th>\n      <th>Art Gallery</th>\n      <th>Art Museum</th>\n      <th>Arts &amp; Crafts Store</th>\n      <th>Asian Restaurant</th>\n      <th>BBQ Joint</th>\n      <th>Bakery</th>\n      <th>...</th>\n      <th>Track Stadium</th>\n      <th>Trail</th>\n      <th>Train Station</th>\n      <th>Vegetarian / Vegan Restaurant</th>\n      <th>Vietnamese Restaurant</th>\n      <th>Warehouse Store</th>\n      <th>Wine Bar</th>\n      <th>Wings Joint</th>\n      <th>Women's Store</th>\n      <th>Yoga Studio</th>\n    </tr>\n  </thead>\n  <tbody>\n    <tr>\n      <th>0</th>\n      <td>Algoma University</td>\n      <td>0</td>\n      <td>0</td>\n      <td>0</td>\n      <td>0</td>\n      <td>0</td>\n      <td>0</td>\n      <td>0</td>\n      <td>0</td>\n      <td>0</td>\n      <td>...</td>\n      <td>0</td>\n      <td>0</td>\n      <td>0</td>\n      <td>0</td>\n      <td>0</td>\n      <td>0</td>\n      <td>0</td>\n      <td>1</td>\n      <td>0</td>\n      <td>0</td>\n    </tr>\n    <tr>\n      <th>1</th>\n      <td>Brock University</td>\n      <td>0</td>\n      <td>0</td>\n      <td>0</td>\n      <td>0</td>\n      <td>0</td>\n      <td>0</td>\n      <td>0</td>\n      <td>0</td>\n      <td>0</td>\n      <td>...</td>\n      <td>0</td>\n      <td>0</td>\n      <td>0</td>\n      <td>0</td>\n      <td>0</td>\n      <td>0</td>\n      <td>0</td>\n      <td>0</td>\n      <td>0</td>\n      <td>0</td>\n    </tr>\n    <tr>\n      <th>2</th>\n      <td>Carleton University</td>\n      <td>0</td>\n      <td>0</td>\n      <td>1</td>\n      <td>0</td>\n      <td>0</td>\n      <td>0</td>\n      <td>0</td>\n      <td>0</td>\n      <td>0</td>\n      <td>...</td>\n      <td>0</td>\n      <td>0</td>\n      <td>0</td>\n      <td>0</td>\n      <td>1</td>\n      <td>0</td>\n      <td>0</td>\n      <td>0</td>\n      <td>1</td>\n      <td>0</td>\n    </tr>\n    <tr>\n      <th>3</th>\n      <td>Dominican University College</td>\n      <td>1</td>\n      <td>1</td>\n      <td>0</td>\n      <td>0</td>\n      <td>0</td>\n      <td>0</td>\n      <td>1</td>\n      <td>0</td>\n      <td>4</td>\n      <td>...</td>\n      <td>0</td>\n      <td>0</td>\n      <td>0</td>\n      <td>0</td>\n      <td>4</td>\n      <td>0</td>\n      <td>2</td>\n      <td>0</td>\n      <td>0</td>\n      <td>3</td>\n    </tr>\n    <tr>\n      <th>4</th>\n      <td>Huron University College</td>\n      <td>0</td>\n      <td>0</td>\n      <td>0</td>\n      <td>0</td>\n      <td>0</td>\n      <td>0</td>\n      <td>0</td>\n      <td>0</td>\n      <td>0</td>\n      <td>...</td>\n      <td>0</td>\n      <td>0</td>\n      <td>0</td>\n      <td>0</td>\n      <td>0</td>\n      <td>0</td>\n      <td>0</td>\n      <td>0</td>\n      <td>0</td>\n      <td>0</td>\n    </tr>\n  </tbody>\n</table>\n<p>5 rows \u00d7 195 columns</p>\n</div>",
                        "text/plain": "                     University  Adult Boutique  American Restaurant  Arcade  \\\n0             Algoma University               0                    0       0   \n1              Brock University               0                    0       0   \n2           Carleton University               0                    0       1   \n3  Dominican University College               1                    1       0   \n4      Huron University College               0                    0       0   \n\n   Art Gallery  Art Museum  Arts & Crafts Store  Asian Restaurant  BBQ Joint  \\\n0            0           0                    0                 0          0   \n1            0           0                    0                 0          0   \n2            0           0                    0                 0          0   \n3            0           0                    0                 1          0   \n4            0           0                    0                 0          0   \n\n   Bakery  ...  Track Stadium  Trail  Train Station  \\\n0       0  ...              0      0              0   \n1       0  ...              0      0              0   \n2       0  ...              0      0              0   \n3       4  ...              0      0              0   \n4       0  ...              0      0              0   \n\n   Vegetarian / Vegan Restaurant  Vietnamese Restaurant  Warehouse Store  \\\n0                              0                      0                0   \n1                              0                      0                0   \n2                              0                      1                0   \n3                              0                      4                0   \n4                              0                      0                0   \n\n   Wine Bar  Wings Joint  Women's Store  Yoga Studio  \n0         0            1              0            0  \n1         0            0              0            0  \n2         0            0              1            0  \n3         2            0              0            3  \n4         0            0              0            0  \n\n[5 rows x 195 columns]"
                    },
                    "execution_count": 344,
                    "metadata": {},
                    "output_type": "execute_result"
                }
            ],
            "source": "# one hot encoding\nunis_onehot = pd.get_dummies(all_venues[['Venue Category']], prefix=\"\", prefix_sep=\"\")\n\n# add University column back to dataframe\nunis_onehot['University'] = all_venues['University'] \n\n# move University column to the first column\nfixed_columns = [unis_onehot.columns[-1]] + list(unis_onehot.columns[:-1])\nunis_onehot = unis_onehot[fixed_columns]\n\n# Group by university\nunis_grouped = unis_onehot.groupby('University').sum().reset_index()\n\nunis_grouped.head()"
        },
        {
            "cell_type": "code",
            "execution_count": 345,
            "metadata": {},
            "outputs": [
                {
                    "data": {
                        "text/html": "<div>\n<style scoped>\n    .dataframe tbody tr th:only-of-type {\n        vertical-align: middle;\n    }\n\n    .dataframe tbody tr th {\n        vertical-align: top;\n    }\n\n    .dataframe thead th {\n        text-align: right;\n    }\n</style>\n<table border=\"1\" class=\"dataframe\">\n  <thead>\n    <tr style=\"text-align: right;\">\n      <th></th>\n      <th>University</th>\n      <th>Adult Boutique</th>\n      <th>American Restaurant</th>\n      <th>Arcade</th>\n      <th>Art Gallery</th>\n      <th>Art Museum</th>\n      <th>Arts &amp; Crafts Store</th>\n      <th>Asian Restaurant</th>\n      <th>BBQ Joint</th>\n      <th>Bakery</th>\n      <th>...</th>\n      <th>Track Stadium</th>\n      <th>Trail</th>\n      <th>Train Station</th>\n      <th>Vegetarian / Vegan Restaurant</th>\n      <th>Vietnamese Restaurant</th>\n      <th>Warehouse Store</th>\n      <th>Wine Bar</th>\n      <th>Wings Joint</th>\n      <th>Women's Store</th>\n      <th>Yoga Studio</th>\n    </tr>\n  </thead>\n  <tbody>\n    <tr>\n      <th>0</th>\n      <td>Algoma University</td>\n      <td>0</td>\n      <td>0</td>\n      <td>0</td>\n      <td>0</td>\n      <td>0</td>\n      <td>0</td>\n      <td>0</td>\n      <td>0</td>\n      <td>0</td>\n      <td>...</td>\n      <td>0</td>\n      <td>0</td>\n      <td>0</td>\n      <td>0</td>\n      <td>0</td>\n      <td>0</td>\n      <td>0</td>\n      <td>1</td>\n      <td>0</td>\n      <td>0</td>\n    </tr>\n    <tr>\n      <th>1</th>\n      <td>Brock University</td>\n      <td>0</td>\n      <td>0</td>\n      <td>0</td>\n      <td>0</td>\n      <td>0</td>\n      <td>0</td>\n      <td>0</td>\n      <td>0</td>\n      <td>0</td>\n      <td>...</td>\n      <td>0</td>\n      <td>0</td>\n      <td>0</td>\n      <td>0</td>\n      <td>0</td>\n      <td>0</td>\n      <td>0</td>\n      <td>0</td>\n      <td>0</td>\n      <td>0</td>\n    </tr>\n    <tr>\n      <th>2</th>\n      <td>Carleton University</td>\n      <td>0</td>\n      <td>0</td>\n      <td>1</td>\n      <td>0</td>\n      <td>0</td>\n      <td>0</td>\n      <td>0</td>\n      <td>0</td>\n      <td>0</td>\n      <td>...</td>\n      <td>0</td>\n      <td>0</td>\n      <td>0</td>\n      <td>0</td>\n      <td>1</td>\n      <td>0</td>\n      <td>0</td>\n      <td>0</td>\n      <td>1</td>\n      <td>0</td>\n    </tr>\n    <tr>\n      <th>3</th>\n      <td>Dominican University College</td>\n      <td>1</td>\n      <td>1</td>\n      <td>0</td>\n      <td>0</td>\n      <td>0</td>\n      <td>0</td>\n      <td>1</td>\n      <td>0</td>\n      <td>4</td>\n      <td>...</td>\n      <td>0</td>\n      <td>0</td>\n      <td>0</td>\n      <td>0</td>\n      <td>4</td>\n      <td>0</td>\n      <td>2</td>\n      <td>0</td>\n      <td>0</td>\n      <td>3</td>\n    </tr>\n    <tr>\n      <th>4</th>\n      <td>Huron University College</td>\n      <td>0</td>\n      <td>0</td>\n      <td>0</td>\n      <td>0</td>\n      <td>0</td>\n      <td>0</td>\n      <td>0</td>\n      <td>0</td>\n      <td>0</td>\n      <td>...</td>\n      <td>0</td>\n      <td>0</td>\n      <td>0</td>\n      <td>0</td>\n      <td>0</td>\n      <td>0</td>\n      <td>0</td>\n      <td>0</td>\n      <td>0</td>\n      <td>0</td>\n    </tr>\n  </tbody>\n</table>\n<p>5 rows \u00d7 195 columns</p>\n</div>",
                        "text/plain": "                     University  Adult Boutique  American Restaurant  Arcade  \\\n0             Algoma University               0                    0       0   \n1              Brock University               0                    0       0   \n2           Carleton University               0                    0       1   \n3  Dominican University College               1                    1       0   \n4      Huron University College               0                    0       0   \n\n   Art Gallery  Art Museum  Arts & Crafts Store  Asian Restaurant  BBQ Joint  \\\n0            0           0                    0                 0          0   \n1            0           0                    0                 0          0   \n2            0           0                    0                 0          0   \n3            0           0                    0                 1          0   \n4            0           0                    0                 0          0   \n\n   Bakery  ...  Track Stadium  Trail  Train Station  \\\n0       0  ...              0      0              0   \n1       0  ...              0      0              0   \n2       0  ...              0      0              0   \n3       4  ...              0      0              0   \n4       0  ...              0      0              0   \n\n   Vegetarian / Vegan Restaurant  Vietnamese Restaurant  Warehouse Store  \\\n0                              0                      0                0   \n1                              0                      0                0   \n2                              0                      1                0   \n3                              0                      4                0   \n4                              0                      0                0   \n\n   Wine Bar  Wings Joint  Women's Store  Yoga Studio  \n0         0            1              0            0  \n1         0            0              0            0  \n2         0            0              1            0  \n3         2            0              0            3  \n4         0            0              0            0  \n\n[5 rows x 195 columns]"
                    },
                    "execution_count": 345,
                    "metadata": {},
                    "output_type": "execute_result"
                }
            ],
            "source": "unis_grouped = unis_onehot.groupby('University').sum().reset_index()\n\nunis_grouped.head()"
        },
        {
            "cell_type": "code",
            "execution_count": 346,
            "metadata": {},
            "outputs": [],
            "source": "def return_most_common_venues(row, num_top_venues):\n    row_categories = row.iloc[1:]\n    row_categories_sorted = row_categories.sort_values(ascending=False)\n    \n    return row_categories_sorted.index.values[0:num_top_venues]"
        },
        {
            "cell_type": "code",
            "execution_count": 347,
            "metadata": {
                "scrolled": false
            },
            "outputs": [
                {
                    "name": "stdout",
                    "output_type": "stream",
                    "text": "----Algoma University----\n                  venue freq\n0           Coffee Shop    2\n1  Fast Food Restaurant    2\n2        Discount Store    1\n3            Beer Store    1\n4           Supermarket    1\n5          Burger Joint    1\n6           Golf Course    1\n7        Sandwich Place    1\n\n\n----Brock University----\n                   venue freq\n0            Coffee Shop    3\n1      Convenience Store    2\n2            Gas Station    1\n3                    Gym    1\n4         Scenic Lookout    1\n5                  Hotel    1\n6  Performing Arts Venue    1\n7             Restaurant    1\n\n\n----Carleton University----\n                  venue freq\n0           Coffee Shop    9\n1                  Park    3\n2                   Pub    3\n3        Sandwich Place    3\n4  Fast Food Restaurant    2\n5           Pizza Place    2\n6                   Bar    2\n7                Museum    1\n\n\n----Dominican University College----\n                   venue freq\n0            Coffee Shop    8\n1  Vietnamese Restaurant    4\n2                 Bakery    4\n3            Yoga Studio    3\n4     Chinese Restaurant    3\n5         Ice Cream Shop    3\n6                  Hotel    3\n7                   Caf\u00e9    3\n\n\n----Huron University College----\n                       venue freq\n0                Coffee Shop    6\n1                        Pub    3\n2                      Hotel    2\n3          Convenience Store    2\n4                 Restaurant    2\n5  Middle Eastern Restaurant    1\n6            College Stadium    1\n7             Sandwich Place    1\n\n\n----McMaster University----\n                  venue freq\n0           Coffee Shop    9\n1  Fast Food Restaurant    3\n2        Sandwich Place    3\n3              Pharmacy    2\n4               Brewery    2\n5         Grocery Store    2\n6                   Bar    2\n7                 Trail    2\n\n\n----Nipissing University----\n                  venue freq\n0           Coffee Shop    6\n1                  Caf\u00e9    4\n2        Sandwich Place    3\n3         Grocery Store    3\n4            Restaurant    3\n5            Beer Store    2\n6                 Diner    2\n7  Fast Food Restaurant    2\n\n\n----Queen's University----\n                  venue freq\n0           Coffee Shop    8\n1                   Pub    8\n2                  Caf\u00e9    6\n3                   Bar    5\n4                  Park    4\n5    Italian Restaurant    3\n6  Fast Food Restaurant    3\n7           Pizza Place    3\n\n\n----Royal Military College of Canada----\n                     venue freq\n0                      Pub    5\n1              Coffee Shop    4\n2                    Hotel    3\n3                     Caf\u00e9    3\n4       Italian Restaurant    3\n5  New American Restaurant    3\n6              Pizza Place    3\n7           Ice Cream Shop    2\n\n\n----Saint Paul University----\n                  venue freq\n0                  Caf\u00e9    9\n1  Fast Food Restaurant    9\n2             BBQ Joint    6\n3                   Bar    5\n4      Asian Restaurant    5\n5            Restaurant    4\n6          Burger Joint    3\n7     Korean Restaurant    3\n\n\n----University of Guelph----\n            venue freq\n0     Coffee Shop    3\n1      Restaurant    2\n2            Caf\u00e9    2\n3             Pub    1\n4  Hardware Store    1\n5     Pizza Place    1\n6            Park    1\n7  Sandwich Place    1\n\n\n----University of Ontario Institute of Technology----\n                  venue freq\n0           Coffee Shop    6\n1        Sandwich Place    6\n2  Fast Food Restaurant    4\n3                   Pub    2\n4              Pharmacy    2\n5            Restaurant    2\n6           Karaoke Bar    1\n7            Smoke Shop    1\n\n\n----University of Ottawa----\n                venue freq\n0         Coffee Shop    9\n1               Hotel    7\n2                Caf\u00e9    4\n3          Restaurant    3\n4    Tapas Restaurant    3\n5                Park    3\n6  Seafood Restaurant    2\n7  Mexican Restaurant    2\n\n\n----University of Waterloo----\n              venue freq\n0       Coffee Shop   11\n1   Bubble Tea Shop    3\n2    Sandwich Place    3\n3       Pizza Place    2\n4        Restaurant    2\n5              Park    2\n6               Pub    2\n7  Sushi Restaurant    2\n\n\n----University of Western Ontario----\n                     venue freq\n0              Coffee Shop    9\n1                      Pub    5\n2                      Bar    5\n3  New American Restaurant    4\n4           Sandwich Place    4\n5              Pizza Place    4\n6       Italian Restaurant    3\n7          Thai Restaurant    3\n\n\n----University of Windsor----\n                  venue freq\n0     Convenience Store    4\n1           Coffee Shop    3\n2           Pizza Place    3\n3    Chinese Restaurant    2\n4  Fast Food Restaurant    2\n5                  Park    2\n6      Asian Restaurant    2\n7                   Pub    2\n\n\n----Wilfrid Laurier University----\n                venue freq\n0         Coffee Shop    7\n1          Restaurant    5\n2                Caf\u00e9    5\n3                 Bar    4\n4      Sandwich Place    3\n5                 Pub    3\n6  Chinese Restaurant    3\n7   Indian Restaurant    3\n\n\n"
                }
            ],
            "source": "num_top_venues = 8\n\nfor uni in unis_grouped['University']:\n    print(\"----\"+uni+\"----\")\n    temp = unis_grouped[unis_grouped['University'] == uni].T.reset_index()\n    temp.columns = ['venue','freq']\n    temp = temp.iloc[1:]\n    print(temp.sort_values('freq', ascending=False).reset_index(drop=True).head(num_top_venues))\n    print('\\n')"
        },
        {
            "cell_type": "code",
            "execution_count": null,
            "metadata": {},
            "outputs": [],
            "source": ""
        },
        {
            "cell_type": "code",
            "execution_count": null,
            "metadata": {},
            "outputs": [],
            "source": ""
        },
        {
            "cell_type": "code",
            "execution_count": null,
            "metadata": {},
            "outputs": [],
            "source": ""
        }
    ],
    "metadata": {
        "kernelspec": {
            "display_name": "Python 3.6",
            "language": "python",
            "name": "python3"
        },
        "language_info": {
            "codemirror_mode": {
                "name": "ipython",
                "version": 3
            },
            "file_extension": ".py",
            "mimetype": "text/x-python",
            "name": "python",
            "nbconvert_exporter": "python",
            "pygments_lexer": "ipython3",
            "version": "3.6.8"
        }
    },
    "nbformat": 4,
    "nbformat_minor": 1
}